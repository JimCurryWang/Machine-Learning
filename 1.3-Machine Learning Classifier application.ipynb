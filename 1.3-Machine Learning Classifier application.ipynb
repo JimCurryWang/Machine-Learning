{
 "cells": [
  {
   "cell_type": "markdown",
   "metadata": {},
   "source": [
    "# Overview\n",
    "\n",
    "1. Logistic Regression\n",
    "2. KNN\n",
    "3. Decision Tree\n",
    "4. Random Forest\n",
    "5. Naive Bayes\n",
    "6. Linear SVM\n",
    "7. RBF SVM\n",
    "8. AdaBoost\n",
    "9. Bagging\n",
    "10. LDA\n",
    "11. QDA\n",
    "12. XGBoost\n",
    "13. Stacking (mlxtend)\n",
    "14. Majority vote\n",
    "15. Majority Vote with grid search\n",
    "   - Assign best parameter for predict\n",
    "16. Feature importance\n",
    "17. Model selection by feature importance\n"
   ]
  },
  {
   "cell_type": "code",
   "execution_count": 1,
   "metadata": {
    "collapsed": false
   },
   "outputs": [
    {
     "name": "stderr",
     "output_type": "stream",
     "text": [
      "E:\\Programming\\Python\\Anaconda3\\lib\\site-packages\\sklearn\\cross_validation.py:41: DeprecationWarning: This module was deprecated in version 0.18 in favor of the model_selection module into which all the refactored classes and functions are moved. Also note that the interface of the new CV iterators are different from that of this module. This module will be removed in 0.20.\n",
      "  \"This module will be removed in 0.20.\", DeprecationWarning)\n"
     ]
    }
   ],
   "source": [
    "import pandas as pd\n",
    "import numpy as np\n",
    "from sklearn.cross_validation import train_test_split\n",
    "from sklearn.metrics import accuracy_score\n",
    "import matplotlib.pyplot as plt\n",
    "from sklearn import metrics\n",
    "import xgboost as xgb\n",
    "from sklearn.model_selection import GridSearchCV"
   ]
  },
  {
   "cell_type": "code",
   "execution_count": 2,
   "metadata": {
    "collapsed": false
   },
   "outputs": [
    {
     "name": "stdout",
     "output_type": "stream",
     "text": [
      "Class labels [1 2 3]\n"
     ]
    },
    {
     "data": {
      "text/html": [
       "<div>\n",
       "<table border=\"1\" class=\"dataframe\">\n",
       "  <thead>\n",
       "    <tr style=\"text-align: right;\">\n",
       "      <th></th>\n",
       "      <th>Class label</th>\n",
       "      <th>Alcohol</th>\n",
       "      <th>Malic acid</th>\n",
       "      <th>Ash</th>\n",
       "      <th>Alcalinity of ash</th>\n",
       "      <th>Magnesium</th>\n",
       "      <th>Total phenols</th>\n",
       "      <th>Flavanoids</th>\n",
       "      <th>Nonflavanoid phenols</th>\n",
       "      <th>Proanthocyanins</th>\n",
       "      <th>Color intensity</th>\n",
       "      <th>Hue</th>\n",
       "      <th>OD280/OD315 of diluted wines</th>\n",
       "      <th>Proline</th>\n",
       "    </tr>\n",
       "  </thead>\n",
       "  <tbody>\n",
       "    <tr>\n",
       "      <th>0</th>\n",
       "      <td>1</td>\n",
       "      <td>14.23</td>\n",
       "      <td>1.71</td>\n",
       "      <td>2.43</td>\n",
       "      <td>15.6</td>\n",
       "      <td>127</td>\n",
       "      <td>2.80</td>\n",
       "      <td>3.06</td>\n",
       "      <td>0.28</td>\n",
       "      <td>2.29</td>\n",
       "      <td>5.64</td>\n",
       "      <td>1.04</td>\n",
       "      <td>3.92</td>\n",
       "      <td>1065</td>\n",
       "    </tr>\n",
       "    <tr>\n",
       "      <th>1</th>\n",
       "      <td>1</td>\n",
       "      <td>13.20</td>\n",
       "      <td>1.78</td>\n",
       "      <td>2.14</td>\n",
       "      <td>11.2</td>\n",
       "      <td>100</td>\n",
       "      <td>2.65</td>\n",
       "      <td>2.76</td>\n",
       "      <td>0.26</td>\n",
       "      <td>1.28</td>\n",
       "      <td>4.38</td>\n",
       "      <td>1.05</td>\n",
       "      <td>3.40</td>\n",
       "      <td>1050</td>\n",
       "    </tr>\n",
       "    <tr>\n",
       "      <th>2</th>\n",
       "      <td>1</td>\n",
       "      <td>13.16</td>\n",
       "      <td>2.36</td>\n",
       "      <td>2.67</td>\n",
       "      <td>18.6</td>\n",
       "      <td>101</td>\n",
       "      <td>2.80</td>\n",
       "      <td>3.24</td>\n",
       "      <td>0.30</td>\n",
       "      <td>2.81</td>\n",
       "      <td>5.68</td>\n",
       "      <td>1.03</td>\n",
       "      <td>3.17</td>\n",
       "      <td>1185</td>\n",
       "    </tr>\n",
       "    <tr>\n",
       "      <th>3</th>\n",
       "      <td>1</td>\n",
       "      <td>14.37</td>\n",
       "      <td>1.95</td>\n",
       "      <td>2.50</td>\n",
       "      <td>16.8</td>\n",
       "      <td>113</td>\n",
       "      <td>3.85</td>\n",
       "      <td>3.49</td>\n",
       "      <td>0.24</td>\n",
       "      <td>2.18</td>\n",
       "      <td>7.80</td>\n",
       "      <td>0.86</td>\n",
       "      <td>3.45</td>\n",
       "      <td>1480</td>\n",
       "    </tr>\n",
       "    <tr>\n",
       "      <th>4</th>\n",
       "      <td>1</td>\n",
       "      <td>13.24</td>\n",
       "      <td>2.59</td>\n",
       "      <td>2.87</td>\n",
       "      <td>21.0</td>\n",
       "      <td>118</td>\n",
       "      <td>2.80</td>\n",
       "      <td>2.69</td>\n",
       "      <td>0.39</td>\n",
       "      <td>1.82</td>\n",
       "      <td>4.32</td>\n",
       "      <td>1.04</td>\n",
       "      <td>2.93</td>\n",
       "      <td>735</td>\n",
       "    </tr>\n",
       "  </tbody>\n",
       "</table>\n",
       "</div>"
      ],
      "text/plain": [
       "   Class label  Alcohol  Malic acid   Ash  Alcalinity of ash  Magnesium  \\\n",
       "0            1    14.23        1.71  2.43               15.6        127   \n",
       "1            1    13.20        1.78  2.14               11.2        100   \n",
       "2            1    13.16        2.36  2.67               18.6        101   \n",
       "3            1    14.37        1.95  2.50               16.8        113   \n",
       "4            1    13.24        2.59  2.87               21.0        118   \n",
       "\n",
       "   Total phenols  Flavanoids  Nonflavanoid phenols  Proanthocyanins  \\\n",
       "0           2.80        3.06                  0.28             2.29   \n",
       "1           2.65        2.76                  0.26             1.28   \n",
       "2           2.80        3.24                  0.30             2.81   \n",
       "3           3.85        3.49                  0.24             2.18   \n",
       "4           2.80        2.69                  0.39             1.82   \n",
       "\n",
       "   Color intensity   Hue  OD280/OD315 of diluted wines  Proline  \n",
       "0             5.64  1.04                          3.92     1065  \n",
       "1             4.38  1.05                          3.40     1050  \n",
       "2             5.68  1.03                          3.17     1185  \n",
       "3             7.80  0.86                          3.45     1480  \n",
       "4             4.32  1.04                          2.93      735  "
      ]
     },
     "execution_count": 2,
     "metadata": {},
     "output_type": "execute_result"
    }
   ],
   "source": [
    "### Read Datset  \n",
    "\n",
    "\n",
    "df_wine = pd.read_csv('https://archive.ics.uci.edu/'\n",
    "                      'ml/machine-learning-databases/wine/wine.data',\n",
    "                      header=None)\n",
    "\n",
    "df_wine.columns = ['Class label', 'Alcohol', 'Malic acid', 'Ash',\n",
    "                   'Alcalinity of ash', 'Magnesium', 'Total phenols',\n",
    "                   'Flavanoids', 'Nonflavanoid phenols', 'Proanthocyanins',\n",
    "                   'Color intensity', 'Hue', 'OD280/OD315 of diluted wines',\n",
    "                   'Proline']\n",
    "\n",
    "print('Class labels', np.unique(df_wine['Class label']))\n",
    "df_wine.head()"
   ]
  },
  {
   "cell_type": "code",
   "execution_count": 3,
   "metadata": {
    "collapsed": true
   },
   "outputs": [],
   "source": [
    "\n",
    "#### df[row,column]\n",
    "\n",
    "X, y = df_wine.iloc[:, 1:].values, df_wine.iloc[:, 0].values\n",
    "\n",
    "X_train, X_test, y_train,y_test = train_test_split(X,y,test_size = 0.3, random_state = 0)"
   ]
  },
  {
   "cell_type": "code",
   "execution_count": 4,
   "metadata": {
    "collapsed": true
   },
   "outputs": [],
   "source": [
    "#### Standardize  ###\n",
    "\n",
    "#### Standardize can make learning converge faster and avoid weights too large or too small   ###\n",
    "\n",
    "from sklearn.preprocessing import StandardScaler\n",
    "\n",
    "sc = StandardScaler()\n",
    "\n",
    "##### Fit training set\n",
    "sc.fit(X_train)\n",
    "\n",
    "####  Use same fitted Scaler to training and testing\n",
    "\n",
    "X_train_std = sc.transform(X_train)\n",
    "X_test_std = sc.transform(X_test)\n"
   ]
  },
  {
   "cell_type": "markdown",
   "metadata": {},
   "source": [
    "# Logistics Regression   \n",
    "- Binary classifier \n",
    "- Sklearn support OVR multiclass classifier\n",
    "\n",
    "- Hyperparameter: \n",
    "  - l1 >> sparse matrix, many w will be zero\n",
    "  - l2 >> focus on w**2  smooth the effect of w\n",
    "  -  C = Inverse of regularization strength, default = 1\n",
    "  - multi_class >> default 'OVR' : one versus rest"
   ]
  },
  {
   "cell_type": "code",
   "execution_count": 5,
   "metadata": {
    "collapsed": false
   },
   "outputs": [
    {
     "name": "stdout",
     "output_type": "stream",
     "text": [
      "training accuracy:  0.983870967742\n",
      "testing accuracy:   0.981481481481\n"
     ]
    }
   ],
   "source": [
    "\n",
    "from sklearn.linear_model import LogisticRegression\n",
    "\n",
    "\n",
    "\n",
    "lr = LogisticRegression(penalty = 'l1',C = 0.1,multi_class = 'ovr')\n",
    "lr.fit(X_train_std,y_train)\n",
    "\n",
    "print(\"training accuracy: \", lr.score(X_train_std,y_train))\n",
    "print(\"testing accuracy:  \",lr.score(X_test_std,y_test))"
   ]
  },
  {
   "cell_type": "markdown",
   "metadata": {},
   "source": [
    "# KNN   \n",
    "- Learning only occure when testing data need to be classified >> lazy learning method\n",
    "- Classify according to k cloest neighbor\n",
    "- Bad for spare dimension\n",
    "- Multiclass classifier\n",
    "\n",
    "- p: Power parameter for the Minkowski metric.\n",
    "- metric: The default metric is minkowski, and with p=2 is equivalent to the standard Euclidean metric.\n",
    "- See distance matrix for more detail"
   ]
  },
  {
   "cell_type": "code",
   "execution_count": 6,
   "metadata": {
    "collapsed": false
   },
   "outputs": [
    {
     "name": "stdout",
     "output_type": "stream",
     "text": [
      "training accuracy:  0.975806451613\n",
      "testing accuracy:   1.0\n"
     ]
    }
   ],
   "source": [
    "\n",
    "\n",
    "\n",
    "\n",
    "from sklearn.neighbors import KNeighborsClassifier\n",
    "\n",
    "\n",
    "\n",
    "knn = KNeighborsClassifier(n_neighbors = 5, p = 2, metric = 'minkowski')\n",
    "knn.fit(X_train_std, y_train)\n",
    "\n",
    "print(\"training accuracy: \", knn.score(X_train_std,y_train))\n",
    "print(\"testing accuracy:  \",knn.score(X_test_std,y_test))\n",
    "\n"
   ]
  },
  {
   "cell_type": "markdown",
   "metadata": {},
   "source": [
    "# Decision Tree   \n",
    "\n",
    "-  Don't need much preprocessing, ex: labelencoder,  standardize</p>\n",
    "-  In Sklearn, used CART binary tree\n",
    "-  CART can support categorical target (regression tree)\n",
    "-  CART >> feature can be categorical or numerical, target can be categorical, contruct binary trees\n",
    "\n",
    "### parameters\n",
    "\n",
    "- criterion: 'entropy', 'gini'\n"
   ]
  },
  {
   "cell_type": "code",
   "execution_count": 8,
   "metadata": {
    "collapsed": false
   },
   "outputs": [
    {
     "name": "stdout",
     "output_type": "stream",
     "text": [
      "training accuracy:  1.0\n",
      "testing accuracy:   0.944444444444\n"
     ]
    }
   ],
   "source": [
    "\n",
    "\n",
    "from sklearn.tree import DecisionTreeClassifier\n",
    "\n",
    "tree = DecisionTreeClassifier(criterion='entropy', max_depth=5, random_state=0)\n",
    "\n",
    "### Standardize not necessary\n",
    "tree.fit(X_train, y_train)\n",
    "\n",
    "print(\"training accuracy: \", tree.score(X_train,y_train))\n",
    "print(\"testing accuracy:  \",tree.score(X_test,y_test))\n",
    "\n",
    "\n"
   ]
  },
  {
   "cell_type": "markdown",
   "metadata": {},
   "source": [
    "\n",
    "#                                Random Forest\n",
    "\n",
    "\n",
    "- Boosting >> 放回抽樣， feature 為隨機選取 >> increase bias but decrease variance\n",
    "\n",
    "- 可以做feature selection\n",
    "\n",
    "- 能有效處理高維度資料且不須降維\n",
    "\n",
    "- oob誤分率是隨機森林泛化誤差的一個無偏估計，它的結果近似於需要大量計算的k折交叉驗證。\n",
    "\n",
    "###  Parameters:\n",
    "\n",
    "- oob score >> out of bag error, bootstrap error\n",
    "\n",
    "- n_estimator >> number of trees\n",
    "\n",
    "- criterion = 'gini' or 'entropy'\n",
    "\n",
    "- max_features = sqrt(n_features) for classify,  max_features = n_features for regression, 若不知道可設auto\n",
    "\n"
   ]
  },
  {
   "cell_type": "code",
   "execution_count": 9,
   "metadata": {
    "collapsed": false
   },
   "outputs": [
    {
     "name": "stdout",
     "output_type": "stream",
     "text": [
      "oob_score(accuary): 0.967741935484\n",
      "             precision    recall  f1-score   support\n",
      "\n",
      "          1       1.00      1.00      1.00        19\n",
      "          2       1.00      0.95      0.98        22\n",
      "          3       0.93      1.00      0.96        13\n",
      "\n",
      "avg / total       0.98      0.98      0.98        54\n",
      "\n",
      " 1) Color intensity                0.185338\n",
      " 2) Flavanoids                     0.162484\n",
      " 3) Proline                        0.151174\n",
      " 4) OD280/OD315 of diluted wines   0.118238\n",
      " 5) Alcohol                        0.098663\n",
      " 6) Hue                            0.088125\n",
      " 7) Total phenols                  0.056951\n",
      " 8) Alcalinity of ash              0.043780\n",
      " 9) Magnesium                      0.023479\n",
      "10) Malic acid                     0.022186\n",
      "11) Proanthocyanins                0.022091\n",
      "12) Nonflavanoid phenols           0.013939\n",
      "13) Ash                            0.013552\n"
     ]
    },
    {
     "data": {
      "image/png": "[encoded data removed]",
      "text/plain": [
       "<matplotlib.figure.Figure at 0xc80e6d8>"
      ]
     },
     "metadata": {},
     "output_type": "display_data"
    }
   ],
   "source": [
    "\n",
    "#### Random Forest Start Here   #######\n",
    "\n",
    "### Boosting >> 放回抽樣\n",
    "### 可以做feature selection\n",
    "### oob score >> out of bag error\n",
    "### n_estimator >> number of trees\n",
    "### criterion = 'gini' or 'entropy'\n",
    "\n",
    "\n",
    "from sklearn.ensemble import RandomForestClassifier\n",
    "\n",
    "rfc = RandomForestClassifier(n_estimators=500, criterion='gini', max_features='auto', oob_score=True)\n",
    "rfc.fit(X_train, y_train) #不標準化\n",
    "\n",
    "\n",
    "\n",
    "print(\"oob_score(accuary):\",rfc.oob_score_)\n",
    "print(metrics.classification_report(y_test, rfc.predict(X_test)))\n",
    "\n",
    "#### plot the importance\n",
    "feat_labels = df_wine.columns[1:]\n",
    "importances = rfc.feature_importances_\n",
    "indices = np.argsort(importances)[::-1]\n",
    "\n",
    "\n",
    "for f in range(X_train.shape[1]):\n",
    "    print(\"%2d) %-*s %f\" % (f + 1, 30, \n",
    "                            feat_labels[indices[f]], \n",
    "                            importances[indices[f]]))\n",
    "\n",
    "plt.title('Feature Importances')\n",
    "plt.bar(range(X_train.shape[1]), \n",
    "        importances[indices],\n",
    "        color='lightblue', \n",
    "        align='center')\n",
    "\n",
    "plt.xticks(range(X_train.shape[1]), \n",
    "           feat_labels[indices], rotation=90)\n",
    "plt.xlim([-1, X_train.shape[1]])\n",
    "plt.tight_layout()\n",
    "#plt.savefig('./random_forest.png', dpi=300)\n",
    "plt.show()"
   ]
  },
  {
   "cell_type": "markdown",
   "metadata": {},
   "source": [
    "# Naive Bayes\n",
    "\n",
    "- Features are independent\n",
    "- Fast\n",
    "\n",
    "####  1.GaussianNB for classification  (General machine learning)\n",
    "\n",
    "####  2.MultinomialNB for text count classification  (tf-idf, word count)\n",
    "\n",
    "####  3.BernoulliNB for text with binary kind data  (true or false)"
   ]
  },
  {
   "cell_type": "code",
   "execution_count": 10,
   "metadata": {
    "collapsed": false
   },
   "outputs": [
    {
     "name": "stdout",
     "output_type": "stream",
     "text": [
      "             precision    recall  f1-score   support\n",
      "\n",
      "          1       0.90      1.00      0.95        19\n",
      "          2       1.00      0.86      0.93        22\n",
      "          3       0.93      1.00      0.96        13\n",
      "\n",
      "avg / total       0.95      0.94      0.94        54\n",
      "\n",
      "[[19  0  0]\n",
      " [ 2 19  1]\n",
      " [ 0  0 13]]\n"
     ]
    }
   ],
   "source": [
    "from sklearn.naive_bayes import GaussianNB\n",
    "gnb = GaussianNB()\n",
    "gnb.fit(X_train_std,y_train)\n",
    "\n",
    "print(metrics.classification_report(y_test,gnb.predict(X_test_std)))\n",
    "print(metrics.confusion_matrix(y_test,gnb.predict(X_test_std)))"
   ]
  },
  {
   "cell_type": "markdown",
   "metadata": {
    "collapsed": true
   },
   "source": [
    "#  SVM\n",
    "\n",
    "- Effective for high dimensions\n",
    "\n",
    "- Still effective in cases where number of dimensions is greater than the number of samples.\n",
    "\n",
    "- Memory efficient.\n",
    "\n",
    "\n",
    "### Disavantages:\n",
    "\n",
    "1. If the number of features is much greater than the number of samples, avoid over-fitting in choosing Kernel functions and   regularization term is crucial.\n",
    "\n",
    "2. SVMs do not directly provide probability estimates\n",
    "\n",
    "\n",
    "##### Parameters:\n",
    "\n",
    "- C >> decide the margin, C large --> hard margin, C small --> soft margin\n",
    "\n",
    "- soft margin can tolerate more incorrected points --> 較大邊界\n",
    "\n",
    "- gamma >> control size of the radial basis function kernel. Large gamma = complex model\n",
    "\n",
    "-  kernel = 'rbf'  >> Gausian kernel,  project to higer dimension\n",
    "\n",
    "-  Multi-class  >> one against one"
   ]
  },
  {
   "cell_type": "markdown",
   "metadata": {},
   "source": [
    "### 1.LINEAR SVM"
   ]
  },
  {
   "cell_type": "code",
   "execution_count": 12,
   "metadata": {
    "collapsed": false
   },
   "outputs": [
    {
     "name": "stdout",
     "output_type": "stream",
     "text": [
      "             precision    recall  f1-score   support\n",
      "\n",
      "          1       1.00      1.00      1.00        19\n",
      "          2       1.00      1.00      1.00        22\n",
      "          3       1.00      1.00      1.00        13\n",
      "\n",
      "avg / total       1.00      1.00      1.00        54\n",
      "\n",
      "[[19  0  0]\n",
      " [ 0 22  0]\n",
      " [ 0  0 13]]\n"
     ]
    }
   ],
   "source": [
    "from sklearn.svm import SVC\n",
    "linearSVM = SVC(kernel = 'linear',C = 10**10)\n",
    "linearSVM.fit(X_train_std,y_train)\n",
    "\n",
    "\n",
    "print(metrics.classification_report(y_test,linearSVM.predict(X_test_std)))\n",
    "print(metrics.confusion_matrix(y_test,linearSVM.predict(X_test_std)))"
   ]
  },
  {
   "cell_type": "markdown",
   "metadata": {
    "collapsed": true
   },
   "source": [
    "### 2. KERNEL SVM\n",
    "\n",
    "- For nonlinear data, projected to higher dimension"
   ]
  },
  {
   "cell_type": "code",
   "execution_count": 13,
   "metadata": {
    "collapsed": false
   },
   "outputs": [
    {
     "name": "stdout",
     "output_type": "stream",
     "text": [
      "             precision    recall  f1-score   support\n",
      "\n",
      "          1       1.00      1.00      1.00        19\n",
      "          2       1.00      1.00      1.00        22\n",
      "          3       1.00      1.00      1.00        13\n",
      "\n",
      "avg / total       1.00      1.00      1.00        54\n",
      "\n",
      "[[19  0  0]\n",
      " [ 0 22  0]\n",
      " [ 0  0 13]]\n"
     ]
    }
   ],
   "source": [
    "from sklearn.svm import SVC\n",
    "kernelSVM = SVC(kernel = 'rbf', C = 10**6,gamma = 0.00001)\n",
    "kernelSVM.fit(X_train_std,y_train)\n",
    "\n",
    "print(metrics.classification_report(y_test,kernelSVM.predict(X_test_std)))\n",
    "print(metrics.confusion_matrix(y_test,kernelSVM.predict(X_test_std)))"
   ]
  },
  {
   "cell_type": "markdown",
   "metadata": {
    "collapsed": true
   },
   "source": [
    "# AdaBoost\n",
    "\n",
    "- fit a sequence of weak learners  on repeatedly modified versions of the data. \n",
    "\n",
    "- raining examples that were incorrectly predicted by the boosted model induced at the previous step have their weights increased\n",
    "\n",
    "- no need feature selection, don't need to worry about overfitting\n",
    "\n",
    "- Sensitive to outlier"
   ]
  },
  {
   "cell_type": "code",
   "execution_count": 14,
   "metadata": {
    "collapsed": false
   },
   "outputs": [
    {
     "name": "stdout",
     "output_type": "stream",
     "text": [
      "             precision    recall  f1-score   support\n",
      "\n",
      "          1       0.95      0.95      0.95        19\n",
      "          2       0.95      0.91      0.93        22\n",
      "          3       0.93      1.00      0.96        13\n",
      "\n",
      "avg / total       0.94      0.94      0.94        54\n",
      "\n",
      "[[18  1  0]\n",
      " [ 1 20  1]\n",
      " [ 0  0 13]]\n"
     ]
    }
   ],
   "source": [
    "from sklearn.ensemble import AdaBoostClassifier\n",
    "\n",
    "### define weak learner\n",
    "tree = DecisionTreeClassifier(criterion = 'entropy',\n",
    "                             max_depth = 1,\n",
    "                             random_state = 0)\n",
    "### if not choosr base_estimator >>　default is decision tree\n",
    "ada = AdaBoostClassifier(base_estimator = tree,\n",
    "                        n_estimators =  500,\n",
    "                        learning_rate = 0.1,\n",
    "                        random_state = 0)\n",
    "ada.fit(X_train_std,y_train)\n",
    "\n",
    "print(metrics.classification_report(y_test,ada.predict(X_test_std)))\n",
    "print(metrics.confusion_matrix(y_test,ada.predict(X_test_std)))\n"
   ]
  },
  {
   "cell_type": "markdown",
   "metadata": {},
   "source": [
    "# Bagging\n",
    "\n",
    "- 放回抽樣, Weak learner\n",
    "\n",
    "- 每次訓練只使用到部分樣本， reduce bias\n",
    "\n",
    "- Majority vote  \n",
    "\n",
    "#### Parameters:\n",
    "\n",
    "-   max_samples: number of samples to train base estimator\n",
    "-   max_features:If int, then draw max_features features\n",
    "-   bootstrap : 放回抽樣\n",
    "\n"
   ]
  },
  {
   "cell_type": "code",
   "execution_count": 15,
   "metadata": {
    "collapsed": false
   },
   "outputs": [
    {
     "name": "stdout",
     "output_type": "stream",
     "text": [
      "             precision    recall  f1-score   support\n",
      "\n",
      "          1       1.00      1.00      1.00        19\n",
      "          2       1.00      0.95      0.98        22\n",
      "          3       0.93      1.00      0.96        13\n",
      "\n",
      "avg / total       0.98      0.98      0.98        54\n",
      "\n",
      "[[19  0  0]\n",
      " [ 0 21  1]\n",
      " [ 0  0 13]]\n"
     ]
    }
   ],
   "source": [
    "from sklearn.ensemble import BaggingClassifier\n",
    "from sklearn.tree import DecisionTreeClassifier\n",
    "\n",
    "tree = DecisionTreeClassifier(criterion = 'entropy',\n",
    "                             max_depth = None,\n",
    "                             random_state = 1)\n",
    "\n",
    "bag = BaggingClassifier(base_estimator = tree,\n",
    "                       n_estimators = 500,\n",
    "                       max_samples = 1.0,\n",
    "                       max_features = 1.0,\n",
    "                       bootstrap = True,\n",
    "                       bootstrap_features = False,\n",
    "                       n_jobs = -1,\n",
    "                       random_state=  0)\n",
    "bag.fit(X_train_std,y_train)\n",
    "\n",
    "print(metrics.classification_report(y_test,bag.predict(X_test_std)))\n",
    "print(metrics.confusion_matrix(y_test,bag.predict(X_test_std)))\n"
   ]
  },
  {
   "cell_type": "markdown",
   "metadata": {},
   "source": [
    "# LDA, QDA \n",
    "\n",
    "- No hyperparameters to tune\n",
    "- LDA only generate linear decision boundary\n",
    "- QDA more flexible"
   ]
  },
  {
   "cell_type": "code",
   "execution_count": 16,
   "metadata": {
    "collapsed": false
   },
   "outputs": [
    {
     "name": "stdout",
     "output_type": "stream",
     "text": [
      "             precision    recall  f1-score   support\n",
      "\n",
      "          1       0.95      1.00      0.97        19\n",
      "          2       1.00      0.95      0.98        22\n",
      "          3       1.00      1.00      1.00        13\n",
      "\n",
      "avg / total       0.98      0.98      0.98        54\n",
      "\n",
      "[[19  0  0]\n",
      " [ 1 21  0]\n",
      " [ 0  0 13]]\n",
      "             precision    recall  f1-score   support\n",
      "\n",
      "          1       1.00      1.00      1.00        19\n",
      "          2       1.00      1.00      1.00        22\n",
      "          3       1.00      1.00      1.00        13\n",
      "\n",
      "avg / total       1.00      1.00      1.00        54\n",
      "\n",
      "[[19  0  0]\n",
      " [ 0 22  0]\n",
      " [ 0  0 13]]\n"
     ]
    }
   ],
   "source": [
    "from sklearn.discriminant_analysis import LinearDiscriminantAnalysis\n",
    "from sklearn.discriminant_analysis import QuadraticDiscriminantAnalysis\n",
    "\n",
    "LDA = LinearDiscriminantAnalysis()\n",
    "LDA.fit(X_train_std,y_train)\n",
    "\n",
    "\n",
    "QDA = QuadraticDiscriminantAnalysis()\n",
    "QDA.fit(X_train_std,y_train)\n",
    "\n",
    "\n",
    "print(metrics.classification_report(y_test,LDA.predict(X_test_std)))\n",
    "print(metrics.confusion_matrix(y_test,LDA.predict(X_test_std)))\n",
    "\n",
    "\n",
    "print(metrics.classification_report(y_test,QDA.predict(X_test_std)))\n",
    "print(metrics.confusion_matrix(y_test,QDA.predict(X_test_std)))\n"
   ]
  },
  {
   "cell_type": "markdown",
   "metadata": {},
   "source": [
    "# XGBoost\n",
    "\n",
    "## 可看成 Random Forest 強化版\n",
    "\n",
    "- XGBoost以“正則化提升(regularized boosting)”技術而聞名\n",
    "- XGBoost可以實現並行處理，相比GBM有了速度的飛躍。\n",
    "- XGBoost 也支持Hadoop實現。\n",
    "- XGBoost內置處理缺失值的規則。\n",
    "####    用戶需要提供一個和其它樣本不同的值，然後把它作為一個參數傳進去，以此來作為缺失值的取值。XGBoost在不同節點遇到缺失值時  #### 采用不同的處理方法，並且會學習未來遇到缺失值時的處理方法。\n",
    "<br>\n",
    "- XGBoost會一直分裂到指定的最大深度(max_depth)，然後回過頭來剪枝。如果某個節點之後不再有正值，它會去除這個分裂。\n",
    "- XGBoost允許在每一輪boosting叠代中使用交叉驗證。因此，可以方便地獲得最優boosting叠代次數。\n",
    "- XGBoost可以在上一輪的結果上繼續訓練。這個特性在某些特定的應用上是一個巨大的優勢。\n",
    "\n",
    "\n",
    "\n",
    "### Sklearn 中有XGBClassifier \n",
    "\n",
    "#### from xgboost.sklearn import XGBClassifier\n",
    "\n",
    "- eta --> learning_rate\n",
    "- lambda --> reg_lambda\n",
    "- alpha --> reg_alpha\n",
    "\n",
    "\n",
    "詳細說明: \n",
    "         <p>(ENG) https://www.analyticsvidhya.com/blog/2016/03/complete-guide-parameter-tuning-xgboost-with-codes-python/</p>\n",
    "         <p>(CHT) http://www.itread01.com/articles/1476146171.html</p>\n",
    "\n",
    "- xgb - 直接引用xgboost。接下來會用到其中的“cv”函數。\n",
    "- XGBClassifier - 是xgboost的sklearn包。這個包允許我們像GBM一樣使用Grid Search 和並行處理\n"
   ]
  },
  {
   "cell_type": "markdown",
   "metadata": {},
   "source": [
    "###  Key parameters\n",
    "\n",
    "- 1、learning_rate = 0.01~0.2\n",
    "- 2、max_depth: 樹的最大深度，big >> overfit, small >> underfit。 典型值：3-10 \n",
    "- 3、min_child_weight: 決定最小葉子節點樣本權重和。 use to avoid overfitting，數值過大 >> Underfitting, 過小: overfit。 (可參考1~6)\n",
    "- 4、gamma = 0: 起始值也可以選其它比較小的值，在0.1到0.2之間就可以。這個參數後繼也是要調整的。 \n",
    "- 5、subsample,colsample_bytree = 0.8: 這個是最常見的初始值了。典型值的範圍在0.5-0.9之間。\n",
    "- 6、 scale_pos_weight: 在各類別樣本十分不平衡時，把這個參數設定為一個正值，可以使算法更快收斂。\n",
    "\n",
    "#### objective: 這個參數定義需要被最小化的損失函數。最常用的值有\n",
    "binary:logistic 二分類的邏輯回歸，返回預測的概率(不是類別)。\n",
    "multi:softmax 使用softmax的多分類器，返回預測的類別(不是概率)。在這種情況下，你還需要多設一個參數：num_class(類別數目)。\n",
    "multi:softprob 和multi:softmax參數一樣，但是返回的是每個數據屬於各個類別的概率。 \n",
    "eval_metric:[默認值取決於objective參數的取值], 對於有效數據的度量方法。 對於回歸問題，默認值是rmse，對於分類問題，默認值是error。\n",
    "選擇: rmse, mae, logloss, error(二分類錯誤率(閾值為0.5)),merror (多分類錯誤率), mlogloss (多分類logloss損失函數), auc"
   ]
  },
  {
   "cell_type": "code",
   "execution_count": 17,
   "metadata": {
    "collapsed": false
   },
   "outputs": [
    {
     "name": "stdout",
     "output_type": "stream",
     "text": [
      "             precision    recall  f1-score   support\n",
      "\n",
      "          1       0.95      1.00      0.97        19\n",
      "          2       1.00      0.91      0.95        22\n",
      "          3       0.93      1.00      0.96        13\n",
      "\n",
      "avg / total       0.97      0.96      0.96        54\n",
      "\n",
      "Score: 0.962962962963\n"
     ]
    }
   ],
   "source": [
    "import xgboost as xgb\n",
    "\n",
    "gbm = xgb.XGBClassifier(n_estimators = 2000,max_depth = 4,gamma = 0).fit(X_train, y_train)\n",
    "print(metrics.classification_report(y_test,gbm.predict(X_test)))\n",
    "print(\"Score:\", gbm.score(X_test,y_test))"
   ]
  },
  {
   "cell_type": "code",
   "execution_count": 18,
   "metadata": {
    "collapsed": false
   },
   "outputs": [
    {
     "name": "stdout",
     "output_type": "stream",
     "text": [
      "[ 0.08918129  0.08333334  0.02777778  0.03508772  0.07602339  0.0497076\n",
      "  0.14473684  0.01754386  0.01315789  0.21491228  0.04385965  0.03216374\n",
      "  0.17251462]\n"
     ]
    },
    {
     "data": {
      "image/png": "[encoded data removed]",
      "text/plain": [
       "<matplotlib.figure.Figure at 0xc22fd30>"
      ]
     },
     "metadata": {},
     "output_type": "display_data"
    }
   ],
   "source": [
    "### show feature labels\n",
    "print(gbm.feature_importances_)\n",
    "from xgboost import plot_importance\n",
    "plot_importance(gbm, )\n",
    "plt.show()"
   ]
  },
  {
   "cell_type": "markdown",
   "metadata": {},
   "source": [
    "# Stacking\n",
    "\n",
    "### Can use mlxtend\n",
    "\n",
    "- stacking is most effective when the base models are significantly different. \n",
    "- Stacking leakage and need to be careful\n",
    "\n",
    "- Stacking is an ensemble learning technique that combines multiple classification or regression models via a meta-classifier or a meta-regressor. The base level models are trained based on complete training set then the meta-model is trained on the outputs of base level model as features. The base level often consists of different learning algorithms and therefore stacking ensembles are often heterogeneous.\n"
   ]
  },
  {
   "cell_type": "code",
   "execution_count": 19,
   "metadata": {
    "collapsed": false
   },
   "outputs": [
    {
     "name": "stdout",
     "output_type": "stream",
     "text": [
      "KNN Score: 0.962962962963\n",
      "RF Score: 0.981481481481\n",
      "GNB Score: 0.944444444444\n",
      "SVC Score: 1.0\n",
      "Stacking Score: 0.981481481481\n"
     ]
    }
   ],
   "source": [
    "from mlxtend.classifier import StackingClassifier\n",
    "\n",
    "clf1 = KNeighborsClassifier(n_neighbors = 3, weights = 'uniform')\n",
    "clf2 = RandomForestClassifier(n_estimators = 500,criterion = 'gini',\n",
    "                             max_features = 'auto',oob_score = True)\n",
    "clf3 = GaussianNB()\n",
    "clf4 = SVC(C = 1.0,kernel = \"rbf\",probability = True)\n",
    "\n",
    "meta_clf = xgb.XGBClassifier(n_estimators = 2000,max_depth = 4)\n",
    "\n",
    "### clf1~clf4先做第一層,當input 送進 meta_clf\n",
    "\n",
    "stacking_clf = StackingClassifier(classifiers = [clf1,clf2,clf3,clf4],meta_classifier = meta_clf)\n",
    "\n",
    "clf1.fit(X_train_std, y_train)\n",
    "clf2.fit(X_train,y_train)\n",
    "clf3.fit(X_train_std,y_train)\n",
    "clf4.fit(X_train_std,y_train)\n",
    "stacking_clf.fit(X_train_std,y_train)\n",
    "\n",
    "print('KNN Score:',clf1.score(X_test_std, y_test))\n",
    "print('RF Score:',clf2.score(X_test, y_test))\n",
    "print('GNB Score:',clf3.score(X_test_std, y_test))\n",
    "print('SVC Score:',clf4.score(X_test_std, y_test))\n",
    "print('Stacking Score:',stacking_clf.score(X_test_std, y_test))\n",
    "\n",
    "\n"
   ]
  },
  {
   "cell_type": "markdown",
   "metadata": {
    "collapsed": true
   },
   "source": [
    "## Ensemble Vote Classifier\n",
    "\n",
    "https://rasbt.github.io/mlxtend/user_guide/classifier/EnsembleVoteClassifier/\n",
    "\n",
    "\n",
    "- mlxtend for majority vote\n",
    "- can assign different weight \n",
    "- combining similar or conceptually different machine learning classifiers for classification via majority or plurality voting.\n",
    "\n",
    "\n",
    "#### soft and hard voting: \n",
    "\n",
    "- hard voting:  predict the final class label as the class label that has been predicted most frequently by the classification models.\n",
    "\n",
    "- soft voting: predict the class labels by averaging the class-probabilities (only recommended if the classifiers are well-calibrated)."
   ]
  },
  {
   "cell_type": "code",
   "execution_count": 20,
   "metadata": {
    "collapsed": false
   },
   "outputs": [
    {
     "name": "stdout",
     "output_type": "stream",
     "text": [
      "KNN Score: 0.962962962963\n",
      "RF Score: 0.981481481481\n",
      "GNB Score: 0.944444444444\n",
      "SVC Score: 1.0\n",
      "Voting Score: 1.0\n"
     ]
    }
   ],
   "source": [
    "from mlxtend.classifier import EnsembleVoteClassifier\n",
    "\n",
    "clf1 = KNeighborsClassifier(n_neighbors = 3, weights = 'uniform')\n",
    "clf2 = RandomForestClassifier(n_estimators = 500,criterion = 'gini',\n",
    "                             max_features = 'auto',oob_score = True)\n",
    "clf3 = GaussianNB()\n",
    "clf4 = SVC(C = 1.0,kernel = \"rbf\",probability = True)\n",
    "\n",
    "\n",
    "clf1.fit(X_train_std, y_train)\n",
    "clf2.fit(X_train,y_train)\n",
    "clf3.fit(X_train_std,y_train)\n",
    "clf4.fit(X_train_std,y_train)\n",
    "\n",
    "eclf = EnsembleVoteClassifier(clfs = [clf1,clf2,clf3,clf4],weights = [1,1,1,1])\n",
    "\n",
    "eclf.fit(X_train_std,y_train)\n",
    "\n",
    "\n",
    "print('KNN Score:',clf1.score(X_test_std, y_test))\n",
    "print('RF Score:',clf2.score(X_test, y_test))\n",
    "print('GNB Score:',clf3.score(X_test_std, y_test))\n",
    "print('SVC Score:',clf4.score(X_test_std, y_test))\n",
    "print('Voting Score:',eclf.score(X_test_std, y_test))\n"
   ]
  },
  {
   "cell_type": "code",
   "execution_count": 21,
   "metadata": {
    "collapsed": false
   },
   "outputs": [
    {
     "data": {
      "text/plain": [
       "array([1, 3, 2, 1, 2, 2, 1, 3, 2, 2, 3, 3, 1, 2, 3, 2, 1, 1, 2, 1, 2, 1, 1,\n",
       "       2, 2, 2, 2, 2, 2, 3, 1, 1, 2, 1, 1, 1, 3, 2, 2, 3, 1, 1, 2, 2, 2, 1,\n",
       "       3, 2, 3, 1, 3, 3, 1, 3], dtype=int64)"
      ]
     },
     "execution_count": 21,
     "metadata": {},
     "output_type": "execute_result"
    }
   ],
   "source": [
    "eclf.predict(X_test_std)"
   ]
  },
  {
   "cell_type": "markdown",
   "metadata": {
    "collapsed": true
   },
   "source": [
    "## Majority vote with grid search"
   ]
  },
  {
   "cell_type": "code",
   "execution_count": 22,
   "metadata": {
    "collapsed": false
   },
   "outputs": [
    {
     "name": "stdout",
     "output_type": "stream",
     "text": [
      "0.976 +/- 0.02 {'randomforestclassifier__n_estimators': 20, 'logisticregression__C': 1.0}\n",
      "0.976 +/- 0.02 {'randomforestclassifier__n_estimators': 200, 'logisticregression__C': 1.0}\n",
      "0.984 +/- 0.01 {'randomforestclassifier__n_estimators': 20, 'logisticregression__C': 100.0}\n",
      "0.984 +/- 0.01 {'randomforestclassifier__n_estimators': 200, 'logisticregression__C': 100.0}\n",
      "\n",
      "\n",
      "Best parameters: {'randomforestclassifier__n_estimators': 20, 'logisticregression__C': 100.0}\n"
     ]
    }
   ],
   "source": [
    "clf1 = LogisticRegression(random_state = 1)\n",
    "clf2 = RandomForestClassifier(random_state = 1)\n",
    "clf3 = GaussianNB()\n",
    "eclf = EnsembleVoteClassifier(clfs = [clf1,clf2,clf3], voting = 'soft')\n",
    "\n",
    "params = {'logisticregression__C': [1.0, 100.0],\n",
    "          'randomforestclassifier__n_estimators': [20, 200],}\n",
    "\n",
    "grid = GridSearchCV(estimator = eclf,param_grid = params,cv = 5)\n",
    "grid.fit(X_train_std,y_train)\n",
    "\n",
    "cv_keys = ('mean_test_score', 'std_test_score', 'params')\n",
    "\n",
    "for r, _ in enumerate(grid.cv_results_['mean_test_score']):\n",
    "    print(\"%0.3f +/- %0.2f %r\"\n",
    "          % (grid.cv_results_[cv_keys[0]][r],\n",
    "             grid.cv_results_[cv_keys[1]][r] / 2.0,\n",
    "             grid.cv_results_[cv_keys[2]][r]))\n",
    "print('\\n')   \n",
    "print(\"Best parameters:\" ,grid.best_params_)"
   ]
  },
  {
   "cell_type": "markdown",
   "metadata": {},
   "source": [
    "## Assign the best parameters and predict"
   ]
  },
  {
   "cell_type": "code",
   "execution_count": 23,
   "metadata": {
    "collapsed": false
   },
   "outputs": [
    {
     "data": {
      "text/plain": [
       "array([1, 3, 2, 1, 2, 2, 1, 3, 2, 2, 3, 3, 1, 2, 3, 2, 1, 1, 3, 1, 2, 1, 1,\n",
       "       2, 2, 2, 2, 2, 2, 3, 1, 1, 2, 1, 1, 1, 3, 2, 2, 3, 1, 1, 2, 2, 2, 1,\n",
       "       3, 2, 3, 1, 3, 3, 1, 3], dtype=int64)"
      ]
     },
     "execution_count": 23,
     "metadata": {},
     "output_type": "execute_result"
    }
   ],
   "source": [
    "eclf = eclf.set_params(**grid.best_params_)\n",
    "eclf.fit(X_train_std,y_train).predict(X_test_std)"
   ]
  },
  {
   "cell_type": "markdown",
   "metadata": {},
   "source": [
    "### Use refit classifier to save the time\n",
    "\n",
    "- By setting refit=False, the EnsembleVoteClassifier will not re-fit these classifers to save computational time:\n",
    "\n",
    "- Can use score to see accuracy"
   ]
  },
  {
   "cell_type": "code",
   "execution_count": 24,
   "metadata": {
    "collapsed": false
   },
   "outputs": [
    {
     "name": "stdout",
     "output_type": "stream",
     "text": [
      "Voting Score: 0.973333333333\n"
     ]
    }
   ],
   "source": [
    "from sklearn import datasets\n",
    "\n",
    "iris = datasets.load_iris()\n",
    "X, y = iris.data[:, 1:3], iris.target\n",
    "\n",
    "clf1 = LogisticRegression(random_state = 1)\n",
    "clf2 = RandomForestClassifier(random_state = 1)\n",
    "clf3 = GaussianNB()\n",
    "\n",
    "for clf in (clf1,clf2,clf3):\n",
    "    clf.fit(X, y)\n",
    "    \n",
    "    \n",
    "eclf = EnsembleVoteClassifier(clfs = [clf1,clf2,clf3],weights = [1,1,1],refit = False)\n",
    "\n",
    "eclf.fit(X, y)\n",
    "\n",
    "print('Voting Score:',np.mean(y == eclf.predict(X)))"
   ]
  },
  {
   "cell_type": "markdown",
   "metadata": {},
   "source": [
    "## Feature importance\n",
    "\n",
    "- RandomForest\n",
    "\n",
    "- Xgboost"
   ]
  },
  {
   "cell_type": "code",
   "execution_count": 25,
   "metadata": {
    "collapsed": false
   },
   "outputs": [
    {
     "name": "stdout",
     "output_type": "stream",
     "text": [
      " 1) Color intensity                0.192472\n",
      " 2) Proline                        0.157341\n",
      " 3) Flavanoids                     0.148171\n",
      " 4) OD280/OD315 of diluted wines   0.140057\n",
      " 5) Alcohol                        0.098517\n",
      " 6) Hue                            0.084295\n",
      " 7) Total phenols                  0.054097\n",
      " 8) Alcalinity of ash              0.028075\n",
      " 9) Malic acid                     0.025143\n",
      "10) Proanthocyanins                0.024065\n",
      "11) Magnesium                      0.020017\n",
      "12) Nonflavanoid phenols           0.014891\n",
      "13) Ash                            0.012858\n"
     ]
    },
    {
     "data": {
      "image/png": "[encoded data removed]",
      "text/plain": [
       "<matplotlib.figure.Figure at 0xc189cc0>"
      ]
     },
     "metadata": {},
     "output_type": "display_data"
    }
   ],
   "source": [
    "### Randomforest\n",
    "\n",
    "from sklearn.ensemble import RandomForestClassifier\n",
    "\n",
    "rfc = RandomForestClassifier(n_estimators = 500, criterion = 'gini'\n",
    "                             , max_features = 'auto',oob_score = True)\n",
    "rfc.fit(X_train,y_train)\n",
    "feat_labels = df_wine.columns[1:]\n",
    "importances = rfc.feature_importances_\n",
    "\n",
    "###  argsort函数返回的是数组值从小到大的索引值\n",
    "##   np.argsort(importances)[::-1] 由大到小索引\n",
    "indices = np.argsort(importances)[::-1]\n",
    "\n",
    "for f in range(X_train.shape[1]):\n",
    "    print(\"%2d) %-*s %f\" % (f + 1, 30, \n",
    "                            feat_labels[indices[f]], \n",
    "                            importances[indices[f]]))\n",
    "    \n",
    "plt.title('Feature Importances')\n",
    "plt.bar(range(X_train.shape[1]), \n",
    "        importances[indices],\n",
    "        color='lightblue', \n",
    "        align='center')\n",
    "\n",
    "plt.xticks(range(X_train.shape[1]), \n",
    "           feat_labels[indices], rotation=90)\n",
    "plt.xlim([-1, X_train.shape[1]])\n",
    "plt.tight_layout()\n",
    "#plt.savefig('./random_forest.png', dpi=300)\n",
    "plt.show()\n"
   ]
  },
  {
   "cell_type": "markdown",
   "metadata": {},
   "source": [
    "###  Model selection by feature importance"
   ]
  },
  {
   "cell_type": "code",
   "execution_count": null,
   "metadata": {
    "collapsed": false
   },
   "outputs": [],
   "source": []
  },
  {
   "cell_type": "code",
   "execution_count": 26,
   "metadata": {
    "collapsed": false
   },
   "outputs": [
    {
     "name": "stdout",
     "output_type": "stream",
     "text": [
      " 1) Color intensity                0.214912\n",
      " 2) Proline                        0.172515\n",
      " 3) Flavanoids                     0.144737\n",
      " 4) Alcohol                        0.089181\n",
      " 5) Malic acid                     0.083333\n",
      " 6) Magnesium                      0.076023\n",
      " 7) Total phenols                  0.049708\n",
      " 8) Hue                            0.043860\n",
      " 9) Alcalinity of ash              0.035088\n",
      "10) OD280/OD315 of diluted wines   0.032164\n",
      "11) Ash                            0.027778\n",
      "12) Nonflavanoid phenols           0.017544\n",
      "13) Proanthocyanins                0.013158\n"
     ]
    },
    {
     "data": {
      "image/png": "[encoded data removed]",
      "text/plain": [
       "<matplotlib.figure.Figure at 0xcb6f908>"
      ]
     },
     "metadata": {},
     "output_type": "display_data"
    }
   ],
   "source": [
    "####　xgboost\n",
    "feat_labels_xgb = df_wine.columns[1:]\n",
    "importances_xgb = gbm.feature_importances_\n",
    "indices_xgb = np.argsort(importances_xgb)[::-1]\n",
    "\n",
    "for f in range(X_train.shape[1]):\n",
    "    print(\"%2d) %-*s %f\" % (f + 1, 30, \n",
    "                            feat_labels_xgb[indices_xgb[f]], \n",
    "                            importances_xgb[indices_xgb[f]]))\n",
    "    \n",
    "    \n",
    "plt.title('Feature Importances')\n",
    "plt.bar(range(X_train.shape[1]), \n",
    "        importances_xgb[indices_xgb],\n",
    "        color='lightblue', \n",
    "        align='center')\n",
    "\n",
    "plt.xticks(range(X_train.shape[1]), \n",
    "           feat_labels_xgb[indices_xgb], rotation=90)\n",
    "plt.xlim([-1, X_train.shape[1]])\n",
    "plt.tight_layout()\n",
    "#plt.savefig('./random_forest.png', dpi=300)\n",
    "plt.show()"
   ]
  },
  {
   "cell_type": "markdown",
   "metadata": {},
   "source": [
    "###  Model selection by feature importance"
   ]
  },
  {
   "cell_type": "code",
   "execution_count": null,
   "metadata": {
    "collapsed": false
   },
   "outputs": [],
   "source": []
  },
  {
   "cell_type": "code",
   "execution_count": null,
   "metadata": {
    "collapsed": false
   },
   "outputs": [],
   "source": []
  },
  {
   "cell_type": "code",
   "execution_count": null,
   "metadata": {
    "collapsed": true
   },
   "outputs": [],
   "source": []
  }
 ],
 "metadata": {
  "anaconda-cloud": {},
  "kernelspec": {
   "display_name": "Python [default]",
   "language": "python",
   "name": "python3"
  },
  "language_info": {
   "codemirror_mode": {
    "name": "ipython",
    "version": 3
   },
   "file_extension": ".py",
   "mimetype": "text/x-python",
   "name": "python",
   "nbconvert_exporter": "python",
   "pygments_lexer": "ipython3",
   "version": "3.5.2"
  }
 },
 "nbformat": 4,
 "nbformat_minor": 1
}
